{
 "cells": [
  {
   "cell_type": "markdown",
   "id": "bda2b59a",
   "metadata": {},
   "source": [
    "## Problema para resolver\n",
    "\n",
    "-Buscar os dados para uma determinada empresa para verificar as ações site Yahoo!\n",
    "-Analisar os dados das ações de acordo com a solicitação do gestor.\n",
    "-Enviar um email com todas as anãlises de forma automática. "
   ]
  },
  {
   "cell_type": "code",
   "execution_count": null,
   "id": "f0ecbcb1",
   "metadata": {},
   "outputs": [],
   "source": [
    "import yfinance\n",
    "codigo = input(\"Digite o código da ação desejada: \")\n",
    "dados = yfinance.Ticker(\"PETR4.SA\").history(\"6mo\")"
   ]
  },
  {
   "cell_type": "code",
   "execution_count": null,
   "id": "2f95c207",
   "metadata": {},
   "outputs": [],
   "source": [
    "fechamento = dados.Close\n",
    "fechamento.plot()"
   ]
  },
  {
   "cell_type": "code",
   "execution_count": null,
   "id": "380e4cc3",
   "metadata": {},
   "outputs": [],
   "source": [
    "# cotação máxima\n",
    "maxima = fechamento.max()\n",
    "minima = fechamento.min()\n",
    "atual = fechamento.iloc[-1]"
   ]
  },
  {
   "cell_type": "markdown",
   "id": "bde2c021",
   "metadata": {},
   "source": [
    "##  Automatizando o envio de email\n",
    "\n",
    "- abrir uma nova aba (ctrl + t)\n",
    "- escrever o endereço do Gmail e aperta enter\n",
    "- clicar no botão escrever\n",
    "- preencher o destinatario, TAB\n",
    "- preencher o assunto, TAB\n",
    "- preencher o corpo do email\n",
    "- clicar no botão enviar"
   ]
  },
  {
   "cell_type": "code",
   "execution_count": null,
   "id": "39114abb",
   "metadata": {},
   "outputs": [],
   "source": [
    "!pip install pyperclip\n",
    "\n",
    "import pyautogui\n",
    "import pyperclip\n"
   ]
  },
  {
   "cell_type": "code",
   "execution_count": null,
   "id": "70077e0b",
   "metadata": {},
   "outputs": [],
   "source": [
    "# configurando uma pausa entre os passos\n",
    "\n",
    "pyautogui.PAUSE = 2 \n"
   ]
  },
  {
   "cell_type": "code",
   "execution_count": null,
   "id": "7b365ac3",
   "metadata": {},
   "outputs": [],
   "source": [
    "# abrir uma nova aba (ctrl + t)\n",
    "\n",
    "pyautogui.hotkey(\"ctrl\", \"t\")\n",
    "\n",
    "# escrever o endereço do Gmail e aperta enter\n",
    "pyperclip.copy(\"www.hotmail.com\")\n",
    "pyautogui.hotkey(\"ctrl\", \"v\")\n",
    "pyautogui.hotkey(\"enter\")"
   ]
  },
  {
   "cell_type": "code",
   "execution_count": null,
   "id": "83da1685",
   "metadata": {},
   "outputs": [],
   "source": [
    "# clicar no botão escrever\n",
    "pyautogui.click(x=447, y=1092)\n",
    "\n",
    "# preencher o destinatario, TAB\n",
    "pyperclip.copy(\"leo_tcxd@hotmail.com\")\n",
    "pyautogui.hotkey(\"ctrl\", \"v\")\n",
    "pyautogui.hotkey(\"tab\")\n",
    "\n",
    "# preencher o assunto\n",
    "pyperclip.copy(\"Análise diária\")\n",
    "pyautogui.hotkey(\"ctrl\", \"v\")\n",
    "pyautogui.hotkey(\"tab\")"
   ]
  },
  {
   "cell_type": "code",
   "execution_count": null,
   "id": "b97b05da",
   "metadata": {},
   "outputs": [],
   "source": [
    "\n",
    "# preencher o corpo do email\n",
    "mensagem = f\"\"\"\n",
    "Presadi Gestor, \n",
    "Seguem as análises dos ultimos seis meses da ação {codigo} conforme solicitado:\n",
    "\n",
    "Cotação máxima: R$ {round(maxima, 2)}\n",
    "Cotação minima: R$ {round(minima, 2)}\n",
    "Cotação atual: R$ {round(atual, 2}\n",
    "\n",
    "Qualquer dúvida, estou á disposição!\n",
    "\"\"\"\n",
    "\n",
    "pyperclip.copy(mensagem)\n",
    "pyautogui.hotkey(\"ctrl\", \"v\")\n",
    "                         \n",
    "pyautogui.click(x=368, y=249)\n",
    "                        \n",
    "\n",
    "import time\n",
    "\n",
    "time.sleep(5)\n",
    "pyautogui.position()"
   ]
  },
  {
   "cell_type": "code",
   "execution_count": null,
   "id": "5332e43b",
   "metadata": {},
   "outputs": [],
   "source": [
    "import yfinance\n",
    "\n",
    "codigo = input(\"Digite o código da ação desejada: \")\n",
    "dados = yfinance.Ticker(\"PETR4.SA\").history(\"6mo\")\n",
    "\n",
    "fechamento = dados.Close\n",
    "fechamento.plot()\n",
    "\n",
    "\n",
    "# cotação máxima\n",
    "maxima = fechamento.max()\n",
    "minima = fechamento.min()\n",
    "atual = fechamento.iloc[-1]\n"
   ]
  },
  {
   "cell_type": "code",
   "execution_count": null,
   "id": "d5763d19",
   "metadata": {},
   "outputs": [],
   "source": [
    "import pyautogui\n",
    "import pyperclip\n",
    "\n",
    "# configurando uma pausa entre os passos\n",
    "pyautogui.PAUSE = 2 \n",
    "\n",
    "# abrir uma nova aba (ctrl + t)\n",
    "\n",
    "pyautogui.hotkey(\"ctrl\", \"t\")\n",
    "\n",
    "# escrever o endereço do Gmail e aperta enter\n",
    "pyperclip.copy(\"www.hotmail.com\")\n",
    "pyautogui.hotkey(\"ctrl\", \"v\")\n",
    "pyautogui.hotkey(\"enter\")\n",
    "\n",
    "# clicar no botão escrever\n",
    "pyautogui.click(x=127, y=167)\n",
    "\n",
    "# preencher o destinatario, TAB\n",
    "pyperclip.copy(\"leo_tcxd@hotmail.com\")\n",
    "pyautogui.hotkey(\"ctrl\", \"v\")\n",
    "pyautogui.hotkey(\"tab\")"
   ]
  },
  {
   "cell_type": "code",
   "execution_count": null,
   "id": "1df0ed4b",
   "metadata": {},
   "outputs": [],
   "source": [
    "# preencher o assunto\n",
    "pyperclip.copy(\"Análise diária.\")\n",
    "pyautogui.hotkey(\"ctrl\", \"v\")\n",
    "pyautogui.hotkey(\"tab\")\n",
    "\n",
    "# preencher o corpo do email\n",
    "mensagem = f\"\"\"\n",
    "Presado Gestor, \n",
    "Seguem as análises dos ultimos seis meses da ação {codigo} conforme solicitado:\n",
    "\n",
    "Cotação máxima: R$ {round(maxima, 2)}\n",
    "Cotação minima: R$ {round(minima, 2)}\n",
    "Cotação atual: R$ {round(atual, 2)}\n",
    "\n",
    "Qualquer dúvida, estou á disposição!\n",
    "\"\"\"\n",
    "\n",
    "pyperclip.copy(mensagem)\n",
    "pyautogui.hotkey(\"ctrl\", \"v\")\n",
    "                         \n",
    "pyautogui.click(x=369, y=227)"
   ]
  },
  {
   "cell_type": "code",
   "execution_count": null,
   "id": "01cb5deb",
   "metadata": {},
   "outputs": [],
   "source": [
    "# preencher o assunto\n",
    "pyperclip.copy(\"Análise diária.\")\n",
    "pyautogui.hotkey(\"ctrl\", \"v\")\n",
    "pyautogui.hotkey(\"tab\")\n",
    "\n",
    "# preencher o corpo do email\n",
    "mensagem = f\"\"\"\n",
    "Presado Gestor, \n",
    "Seguem as análises dos ultimos seis meses da ação {codigo} conforme solicitado:\n",
    "\n",
    "Cotação máxima: R$ {round(maxima, 2)}\n",
    "Cotação minima: R$ {round(minima, 2)}\n",
    "Cotação atual: R$ {round(atual, 2)}\n",
    "\n",
    "Qualquer dúvida, estou á disposição!\n",
    "\"\"\"\n",
    "\n",
    "pyperclip.copy(mensagem)\n",
    "pyautogui.hotkey(\"ctrl\", \"v\")\n",
    "                         \n",
    "pyautogui.click(x=369, y=227)"
   ]
  },
  {
   "cell_type": "code",
   "execution_count": null,
   "id": "46ff04cd",
   "metadata": {},
   "outputs": [],
   "source": []
  }
 ],
 "metadata": {
  "kernelspec": {
   "display_name": "Python 3 (ipykernel)",
   "language": "python",
   "name": "python3"
  },
  "language_info": {
   "codemirror_mode": {
    "name": "ipython",
    "version": 3
   },
   "file_extension": ".py",
   "mimetype": "text/x-python",
   "name": "python",
   "nbconvert_exporter": "python",
   "pygments_lexer": "ipython3",
   "version": "3.11.5"
  }
 },
 "nbformat": 4,
 "nbformat_minor": 5
}
